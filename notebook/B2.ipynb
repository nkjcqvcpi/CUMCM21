{
 "cells": [
  {
   "cell_type": "markdown",
   "metadata": {
    "collapsed": true,
    "pycharm": {
     "name": "#%% md\n"
    }
   },
   "source": [
    "(2) 探讨不同催化剂组合及温度对乙醇转化率以及 C4 烯烃选择性大小的影响。"
   ]
  },
  {
   "cell_type": "code",
   "execution_count": 1,
   "outputs": [],
   "source": [
    "import pandas as pd\n",
    "\n",
    "石英砂 = False\n",
    "\n",
    "附件1 = pd.read_pickle('附件1.pickle')\n",
    "\n",
    "rc = ['温度', 'Co', 'SiO2', 'HAP', '乙醇转化率', 'C4烯烃选择性']\n",
    "if 石英砂:\n",
    "    rc += '石英砂'\n",
    "\n",
    "df = 附件1[rc]\n",
    "rs = df.corr(method='spearman')\n",
    "rk = df.corr(method='kendall')\n",
    "rp = df.corr()"
   ],
   "metadata": {
    "collapsed": false,
    "pycharm": {
     "name": "#%%\n"
    }
   }
  },
  {
   "cell_type": "code",
   "execution_count": 5,
   "outputs": [
    {
     "name": "stdout",
     "output_type": "stream",
     "text": [
      "\\addplot coordinates{(523.15,0.34049999999999997)(548.15,0.3743)(573.15,0.4694)(598.15,0.49700000000000005)(623.15,0.4721)};\n",
      "\\addplot coordinates{(548.15,0.1728)(573.15,0.196)(598.15,0.3062)(623.15,0.391)};\n",
      "\\addplot coordinates{(548.15,0.08039999999999999)(573.15,0.17010000000000003)(598.15,0.2872)(623.15,0.3685)(673.15,0.5343)(723.15,0.499)};\n",
      "\\addplot coordinates{(548.15,0.0862)(573.15,0.1072)(598.15,0.1889)(623.15,0.2725)(673.15,0.4102)};\n",
      "\\addplot coordinates{(548.15,0.0665)(573.15,0.1012)(598.15,0.1386)(623.15,0.1875)(673.15,0.3823)};\n",
      "\\addplot coordinates{(548.15,0.071)(573.15,0.0718)(623.15,0.1065)(673.15,0.37329999999999997)};\n",
      "\\addplot coordinates{(548.15,0.06559999999999999)(573.15,0.08839999999999999)(623.15,0.1864)(673.15,0.3325)};\n",
      "\\addplot coordinates{(548.15,0.0852)(573.15,0.1382)(623.15,0.2589)(673.15,0.4142)};\n",
      "\\addplot coordinates{(548.15,0.0968)(573.15,0.161)(623.15,0.3104)(673.15,0.4204)};\n",
      "\\addplot coordinates{(548.15,0.0165)(573.15,0.0217)(623.15,0.033)(673.15,0.10289999999999999)};\n",
      "\\addplot coordinates{(548.15,0.01)(573.15,0.0182)(623.15,0.0435)(673.15,0.0793)};\n",
      "\\addplot coordinates{(548.15,0.08109999999999999)(573.15,0.11220000000000001)(623.15,0.22260000000000002)(673.15,0.363)};\n",
      "\\addplot coordinates{(548.15,0.0762)(573.15,0.1274)(623.15,0.2346)(673.15,0.2791)};\n",
      "\\addplot coordinates{(548.15,0.0255)(573.15,0.0361)(623.15,0.10830000000000001)(673.15,0.223)};\n",
      "\\addplot coordinates{(548.15,0.0825)(573.15,0.12279999999999999)(623.15,0.2597)(673.15,0.4108)};\n",
      "\\addplot coordinates{(548.15,0.049699999999999994)(573.15,0.0932)(623.15,0.2288)(673.15,0.387)};\n",
      "\\addplot coordinates{(548.15,0.0535)(573.15,0.0761)(598.15,0.0774)(623.15,0.1381)(673.15,0.2121)};\n",
      "\\addplot coordinates{(548.15,0.0662)(573.15,0.050499999999999996)(598.15,0.0833)(623.15,0.131)(673.15,0.2145)};\n",
      "\\addplot coordinates{(548.15,0.0506)(573.15,0.07919999999999999)(598.15,0.11689999999999999)(623.15,0.1534)(673.15,0.2583)};\n",
      "\\addplot coordinates{(548.15,0.0479)(573.15,0.0877)(598.15,0.1606)(623.15,0.2241)(673.15,0.3048)};\n",
      "\\addplot coordinates{(548.15,0.0662)(573.15,0.1286)(598.15,0.1845)(623.15,0.2505)(673.15,0.38170000000000004)"
     ]
    }
   ],
   "source": [
    "flag = True\n",
    "lt = 0\n",
    "\n",
    "for i in df.iterrows():\n",
    "    if flag:\n",
    "        print(r'\\addplot coordinates{', end='')\n",
    "        flag = False\n",
    "    if i[1]['温度'] >= lt:\n",
    "        print('({},{})'.format(i[1]['温度'], i[1]['C4烯烃选择性']), end='')\n",
    "    else:\n",
    "        print('};')\n",
    "        flag = True\n",
    "    lt = i[1]['温度']"
   ],
   "metadata": {
    "collapsed": false,
    "pycharm": {
     "name": "#%%\n"
    }
   }
  }
 ],
 "metadata": {
  "kernelspec": {
   "name": "pycharm-f893d0ad",
   "language": "python",
   "display_name": "PyCharm (2021国赛)"
  },
  "language_info": {
   "codemirror_mode": {
    "name": "ipython",
    "version": 2
   },
   "file_extension": ".py",
   "mimetype": "text/x-python",
   "name": "python",
   "nbconvert_exporter": "python",
   "pygments_lexer": "ipython2",
   "version": "2.7.6"
  }
 },
 "nbformat": 4,
 "nbformat_minor": 0
}