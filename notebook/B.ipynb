{
 "cells": [
  {
   "cell_type": "code",
   "execution_count": 156,
   "metadata": {
    "collapsed": true
   },
   "outputs": [],
   "source": [
    "import pandas as pd\n",
    "import re"
   ]
  },
  {
   "cell_type": "code",
   "execution_count": 157,
   "outputs": [],
   "source": [
    "石英砂 = False"
   ],
   "metadata": {
    "collapsed": false,
    "pycharm": {
     "name": "#%%\n"
    }
   }
  },
  {
   "cell_type": "code",
   "execution_count": 158,
   "outputs": [],
   "source": [
    "附件1 = pd.read_excel('赛题/B/附件1.xlsx', '性能数据表')\n",
    "\n",
    "附件1['催化剂组合编号'] = 附件1['催化剂组合编号'].ffill()\n",
    "附件1['催化剂组合'] = 附件1['催化剂组合'].ffill()\n",
    "\n",
    "old_columns = 附件1.columns\n",
    "columns = ['乙醇转化率', '乙烯选择性', 'C4烯烃选择性', '乙醛选择性', '碳数为4-12脂肪醇选择性', '甲基苯甲醛和甲基苯甲醇选择性', '其他生成物的选择性']\n",
    "\n",
    "附件1.rename(columns={old_columns[i+3]: columns[i] for i in range(len(columns))}, inplace=True)\n",
    "\n",
    "rc = ['装料方式', 'Co', 'SiO2', 'HAP', '乙醇浓度']\n",
    "if 石英砂:\n",
    "    rc += '石英砂'\n",
    "\n",
    "for i, c in enumerate(rc):\n",
    "    附件1.insert(i + 3, c, 0)\n",
    "\n",
    "def wt(desc, mode=False):\n",
    "    coc = float(re.search(r'(?<= )\\d+(\\.\\d+)?(?=wt)', desc).group()) / 100\n",
    "    cosio2 = float(re.search(r'\\d+(\\.\\d+)?(?=mg )', desc).group()) / 10**6\n",
    "    if mode:\n",
    "        co = cosio2 * coc\n",
    "        sio2 = cosio2 * (1 - coc)\n",
    "    else:\n",
    "        co = cosio2 * coc / (coc + 1)\n",
    "        sio2 = cosio2 * 1 / (coc + 1)\n",
    "    return co, sio2\n",
    "\n",
    "for i in 附件1.iterrows():\n",
    "    附件1.loc[i[0], '温度'] = i[1]['温度'] + 273.15\n",
    "    附件1.loc[i[0], '装料方式'] = 0 if i[1]['催化剂组合编号'][0] == 'A' else 1\n",
    "    附件1.loc[i[0], 'Co'] ,附件1.loc[i[0], 'SiO2'] = wt(i[1]['催化剂组合'])\n",
    "    if re.search(r'无HAP', i[1]['催化剂组合']):\n",
    "        w = float(re.search(r'(?<= )\\d+(\\.\\d+)?(?=mg石英砂)', i[1]['催化剂组合']).group()) / 10**6\n",
    "        if 石英砂:\n",
    "            附件1.loc[i[0], '石英砂'] = w\n",
    "        else:\n",
    "            附件1.loc[i[0], 'SiO2'] += w\n",
    "    else:\n",
    "        附件1.loc[i[0], 'HAP'] = float(re.search(r'(?<= )\\d+(\\.\\d+)?(?=mg HAP)', i[1]['催化剂组合']).group()) / 10**6\n",
    "    附件1.loc[i[0], '乙醇浓度'] = float(re.search(r'(?<=乙醇浓度)\\d+(\\.\\d+)?(?=ml)', i[1]['催化剂组合']).group()) / 6 / 10**7\n",
    "    for r in columns:\n",
    "        附件1.loc[i[0], r] = i[1][r] / 100\n",
    "\n",
    "附件1.drop(columns=['催化剂组合', '催化剂组合编号'], inplace=True)\n",
    "附件1.to_pickle('附件1.pickle')\n",
    "附件1.to_excel('附件1.xlsx')"
   ],
   "metadata": {
    "collapsed": false,
    "pycharm": {
     "name": "#%%\n"
    }
   }
  }
 ],
 "metadata": {
  "kernelspec": {
   "name": "pycharm-f893d0ad",
   "language": "python",
   "display_name": "PyCharm (2021国赛)"
  },
  "language_info": {
   "codemirror_mode": {
    "name": "ipython",
    "version": 2
   },
   "file_extension": ".py",
   "mimetype": "text/x-python",
   "name": "python",
   "nbconvert_exporter": "python",
   "pygments_lexer": "ipython2",
   "version": "2.7.6"
  }
 },
 "nbformat": 4,
 "nbformat_minor": 0
}