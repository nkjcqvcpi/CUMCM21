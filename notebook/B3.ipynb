{
 "cells": [
  {
   "cell_type": "markdown",
   "metadata": {
    "collapsed": true,
    "pycharm": {
     "name": "#%% md\n"
    }
   },
   "source": [
    "(3) 如何选择催化剂组合与温度，使得在相同实验条件下C4烯烃收率尽可能高。若使温度低于350度，又如何选择催化剂组合与温度，使得C4烯烃收率尽可能高。"
   ]
  },
  {
   "cell_type": "code",
   "execution_count": 99,
   "outputs": [],
   "source": [
    "import pandas as pd\n",
    "\n",
    "附件1 = pd.read_pickle('附件1.pickle')\n",
    "\n",
    "rc = ['温度', 'Co', 'SiO2', 'HAP', '乙醇浓度']\n",
    "rs = ['乙醇转化率', '乙烯选择性', 'C4烯烃选择性', '乙醛选择性', '碳数为4-12脂肪醇选择性', '甲基苯甲醛和甲基苯甲醇选择性', '其他生成物的选择性']"
   ],
   "metadata": {
    "collapsed": false,
    "pycharm": {
     "name": "#%%\n"
    }
   }
  },
  {
   "cell_type": "code",
   "execution_count": 100,
   "outputs": [
    {
     "name": "stdout",
     "output_type": "stream",
     "text": [
      "0.9650552932187823\n",
      "0.97878243360293\n",
      "0.9986240361382679\n",
      "0.9667574712816367\n",
      "0.9649161022406636\n",
      "0.9640063778030599\n",
      "0.9957208492959726\n",
      "0.9893751622401042\n",
      "0.9562680493236586\n",
      "0.9989323677688843\n",
      "0.9971938983915566\n",
      "0.9988404028769686\n",
      "0.9926532000080845\n",
      "0.9995044338463652\n"
     ]
    }
   ],
   "source": [
    "from sklearn.svm import NuSVR\n",
    "from sklearn.pipeline import make_pipeline\n",
    "from sklearn.preprocessing import StandardScaler\n",
    "\n",
    "exp = {\n",
    "    '乙醇转化率': rc,\n",
    "    '乙醛选择性': rc + ['乙醇转化率'],\n",
    "    '乙烯选择性': rc + ['乙醇转化率', '乙醛选择性'],\n",
    "    '碳数为4-12脂肪醇选择性': rc + ['乙醇转化率', '乙醛选择性'],\n",
    "    'C4烯烃选择性': rc + ['乙醇转化率', '乙醛选择性', '乙烯选择性'],\n",
    "    '甲基苯甲醛和甲基苯甲醇选择性': rc + ['乙醇转化率', '乙醛选择性', '碳数为4-12脂肪醇选择性'],\n",
    "    '其他生成物的选择性': rc + ['乙醇转化率', '乙烯选择性', 'C4烯烃选择性', '乙醛选择性', '碳数为4-12脂肪醇选择性', '甲基苯甲醛和甲基苯甲醇选择性']\n",
    "}\n",
    "\n",
    "model = {m: {i: make_pipeline(StandardScaler(), NuSVR()) for i in exp.keys()} for m in [0, 1]}\n",
    "\n",
    "for m in [0, 1]:\n",
    "    for i in exp.items():\n",
    "        df = 附件1.loc[附件1['装料方式'] == m]\n",
    "        X = df[i[1]]\n",
    "        y = df[i[0]]\n",
    "        model[m][i[0]].fit(X, y)\n",
    "        print(model[m][i[0]].score(X, y))"
   ],
   "metadata": {
    "collapsed": false,
    "pycharm": {
     "name": "#%%\n"
    }
   }
  },
  {
   "cell_type": "code",
   "execution_count": 128,
   "outputs": [],
   "source": [
    "t = {m: {i: model[m][i].get_params() for i in rs} for m in [0, 1]}"
   ],
   "metadata": {
    "collapsed": false,
    "pycharm": {
     "name": "#%%\n"
    }
   }
  },
  {
   "cell_type": "markdown",
   "source": [
    "from sko.SA import SACauchy\n",
    "\n",
    "\n",
    "sa = SACauchy(func=E, x0=[673.15, 0.000001980, 0.000198020, 0.0002, 0.000000015], T_max=1e-8, T_min=1e-16, L=300, max_stay_counter=150)\n",
    "best_x, best_y = sa.run()\n",
    "print('best_x:', best_x, 'best_y', best_y)"
   ],
   "metadata": {
    "collapsed": false,
    "pycharm": {
     "name": "#%% md\n"
    }
   }
  },
  {
   "cell_type": "code",
   "execution_count": 108,
   "outputs": [
    {
     "name": "stdout",
     "output_type": "stream",
     "text": [
      "(598.15, 9.900990099009902e-07, 9.900990099009902e-05, 0.0001, 1.5e-08)\n"
     ]
    }
   ],
   "source": [
    "import re\n",
    "\n",
    "def wt(desc, mode=False):\n",
    "    coc = float(re.search(r'(?<= )\\d+(\\.\\d+)?(?=wt)', desc).group()) / 100\n",
    "    cosio2 = float(re.search(r'\\d+(\\.\\d+)?(?=mg )', desc).group()) / 10**6\n",
    "    if mode:\n",
    "        co = cosio2 * coc\n",
    "        sio2 = cosio2 * (1 - coc)\n",
    "    else:\n",
    "        co = cosio2 * coc / (coc + 1)\n",
    "        sio2 = cosio2 * 1 / (coc + 1)\n",
    "    return co, sio2\n",
    "\n",
    "def convert(t, s):\n",
    "    Co ,SiO2 = wt(s)\n",
    "    HAP = 0\n",
    "    if re.search(r'无HAP', s):\n",
    "        w = float(re.search(r'(?<= )\\d+(\\.\\d+)?(?=mg石英砂)', s).group()) / 10**6\n",
    "        SiO2 += w\n",
    "    else:\n",
    "        HAP = float(re.search(r'(?<= )\\d+(\\.\\d+)?(?=mg HAP)', s).group()) / 10**6\n",
    "    乙醇浓度 = float(re.search(r'(?<=乙醇浓度)\\d+(\\.\\d+)?(?=ml)', s).group()) / 6 / 10**7\n",
    "\n",
    "    return t + 273.15, Co, SiO2, HAP, 乙醇浓度\n",
    "\n",
    "print(convert(325, '100mg 1wt%Co/SiO2- 100mg HAP-乙醇浓度0.9ml/min'))"
   ],
   "metadata": {
    "collapsed": false,
    "pycharm": {
     "name": "#%%\n"
    }
   }
  },
  {
   "cell_type": "code",
   "execution_count": 135,
   "outputs": [
    {
     "name": "stdout",
     "output_type": "stream",
     "text": [
      "(456.0, '376mg 0.0007wt%Co/SiO2- 376mg HAP-乙醇浓度1.92ml/min')\n"
     ]
    }
   ],
   "source": [
    "def trevnoc(t, co, sio2, hap, ethanol):\n",
    "    wt = (co + sio2 / sio2 - 1) * 100\n",
    "    cosio2 = (co + sio2) * 1e6\n",
    "    hap *= 1e6\n",
    "    ethanol *= 6e7\n",
    "    return t - 273.15, '{:.0f}mg {:.4f}wt%Co/SiO2- {:.0f}mg HAP-乙醇浓度{:.2f}ml/min'.format(co + cosio2, wt, hap, ethanol)\n",
    "\n",
    "print(trevnoc(7.29150000e+02, 6.50000000e-06, 3.69009901e-04, 3.75509901e-04, 3.20000000e-08))"
   ],
   "metadata": {
    "collapsed": false,
    "pycharm": {
     "name": "#%%\n"
    }
   }
  },
  {
   "cell_type": "code",
   "source": [
    "from sko.PSO import PSO\n",
    "\n",
    "C350 = True\n",
    "LM = 0\n",
    "\n",
    "min_x = [273.15, 0, 0, 0, 0]\n",
    "max_x = [1000, 0.01, 0.99, 1, 1]\n",
    "\n",
    "def E(x, lm=0):\n",
    "    x = np.expand_dims(x, axis=0)\n",
    "    y_ethanol = model[lm]['乙醇转化率'].predict(x)\n",
    "    x = np.expand_dims(np.append(x, y_ethanol), axis=0)\n",
    "    y_ethanal = model[lm]['乙醛选择性'].predict(x)\n",
    "    x = np.expand_dims(np.append(x, y_ethanal), axis=0)\n",
    "    y_ethylene = model[lm]['乙烯选择性'].predict(x)\n",
    "    x = np.expand_dims(np.append(x, y_ethylene), axis=0)\n",
    "    y_alkene = np.expand_dims(model[lm]['C4烯烃选择性'].predict(x), axis=0)\n",
    "    t = y_alkene * y_ethanol\n",
    "    return t\n",
    "\n",
    "if not LM and C350:\n",
    "    best_x = [598.15, 3.921568627450981e-06, 0.00019607843137254904, 0.0002, 2.7999999999999996e-08]\n",
    "elif not LM and not C350:\n",
    "    best_x = [673.15, 1.9801980198019803e-06, 0.00019801980198019803, 0.0002, 1.5e-08]\n",
    "elif LM and C350:\n",
    "    best_x = [598.15, 9.900990099009902e-07, 9.900990099009902e-05, 0.0001, 1.5e-08]\n",
    "elif LM and not C350:\n",
    "    best_x = [673.15, 9.900990099009902e-07, 9.900990099009902e-05, 0.0001, 1.5e-08]\n",
    "\n",
    "print(E(best_x))"
   ],
   "metadata": {
    "collapsed": false,
    "pycharm": {
     "name": "#%%\n"
    }
   },
   "execution_count": 124,
   "outputs": [
    {
     "name": "stdout",
     "output_type": "stream",
     "text": [
      "[[0.18852667]]\n"
     ]
    }
   ]
  },
  {
   "cell_type": "code",
   "execution_count": null,
   "outputs": [],
   "source": [
    "if C350:\n",
    "    max_x[0] = 623.15\n",
    "\n",
    "pso = PSO(func=E, n_dim=5, pop=50, max_iter=200, lb=[273.15, 0, 0, 0, 1e-14], ub=[1000, 1e-5, 1e-3, 1e-3, 1e-7], w=0.08, c1=5, c2=0.05)\n",
    "pso.run()\n",
    "print('best_x is ', pso.gbest_x, 'best_y is', pso.gbest_y)"
   ],
   "metadata": {
    "collapsed": false,
    "pycharm": {
     "name": "#%%\n"
    }
   }
  },
  {
   "cell_type": "markdown",
   "source": [
    "import matplotlib.pyplot as plt\n",
    "import pandas as pd\n",
    "\n",
    "plt.plot(pd.DataFrame(sa.best_y_history).cummin(axis=0))\n",
    "plt.show()"
   ],
   "metadata": {
    "collapsed": false,
    "pycharm": {
     "name": "#%% md\n"
    }
   }
  },
  {
   "cell_type": "markdown",
   "source": [
    "\"\"\"Monte Carlo\"\"\"\n",
    "\n",
    "epoch = 10000000\n",
    "ratio = 0.2\n",
    "maxy = 0\n",
    "maxx = None\n",
    "\n",
    "xmax = X.max()\n",
    "xmin = X.min()\n",
    "\n",
    "for i in tqdm(range(epoch)):\n",
    "    x = [[rd(xmin[c] * (1 - ratio), xmax[c] * (1 + ratio)) for c in X.columns]]\n",
    "    y = en.predict(x)\n",
    "    if y > maxy:\n",
    "        maxy = y\n",
    "        maxx = x"
   ],
   "metadata": {
    "collapsed": false
   }
  },
  {
   "cell_type": "code",
   "source": [
    "from tqdm.notebook import trange\n",
    "import numpy as np\n",
    "import random\n",
    "\n",
    "C350 = True\n",
    "LM = 1\n",
    "\n",
    "def E(x, lm=0):\n",
    "    x = np.expand_dims(x, axis=0)\n",
    "    y_ethanol = model[lm]['乙醇转化率'].predict(x)\n",
    "    x = np.expand_dims(np.append(x, y_ethanol), axis=0)\n",
    "    y_ethanal = model[lm]['乙醛选择性'].predict(x)\n",
    "    x = np.expand_dims(np.append(x, y_ethanal), axis=0)\n",
    "    y_ethylene = model[lm]['乙烯选择性'].predict(x)\n",
    "    x = np.expand_dims(np.append(x, y_ethylene), axis=0)\n",
    "    y_alkene = np.expand_dims(model[lm]['C4烯烃选择性'].predict(x), axis=0)\n",
    "    t = y_alkene * y_ethanol\n",
    "    return t\n",
    "\n",
    "min_x = [273.15, 0, 0, 0, 0]\n",
    "max_x = [1000, 0.01, 0.99, 1, 1]\n",
    "\n",
    "if not LM and C350:\n",
    "    best_x = [598.15, 3.921568627450981e-06, 0.00019607843137254904, 0.0002, 2.7999999999999996e-08]\n",
    "elif not LM and not C350:\n",
    "    best_x = [673.15, 1.9801980198019803e-06, 0.00019801980198019803, 0.0002, 1.5e-08]\n",
    "elif LM and C350:\n",
    "    best_x = [598.15, 9.900990099009902e-07, 9.900990099009902e-05, 0.0001, 1.5e-08]\n",
    "elif LM and not C350:\n",
    "    best_x = [673.15, 9.900990099009902e-07, 9.900990099009902e-05, 0.0001, 1.5e-08]\n",
    "\n",
    "if C350:\n",
    "    max_x[0] = 623.15\n",
    "\n",
    "best_y = E(best_x)\n",
    "pre_y = best_y\n",
    "\n",
    "x = best_x[:]\n",
    "\n",
    "lr = [1, 1e-7, 1e-5, 1e-5, 1e-9]\n",
    "epoch = 10000000\n",
    "cnt = 0\n",
    "\n",
    "path_x = []\n",
    "path_y = []\n",
    "\n",
    "with trange(epoch) as tr:\n",
    "    for i in tr:\n",
    "        r = random.randint(0, 3)\n",
    "        if r == 3:\n",
    "            r += 1\n",
    "        x[r] = max(x[r], min_x[r])\n",
    "        x[r] = min(x[r], max_x[r])\n",
    "        x[r] += (random.randint(-1, 1)) * lr[r]\n",
    "        x[3] = x[1] + x[2]\n",
    "        path_x.append(x)\n",
    "        y = E(x)\n",
    "        path_y.append(y[0][0])\n",
    "        if y - pre_y < 1e-8:\n",
    "            cnt += 1\n",
    "        if cnt > 10000:\n",
    "            break\n",
    "        if y > best_y:\n",
    "            best_y = y\n",
    "            best_x = x\n",
    "            tr.set_postfix(best_y=best_y)\n",
    "        pre_y = y\n",
    "\n",
    "path_y = np.array(path_y)\n",
    "path_x = np.array(path_x)\n",
    "\n",
    "e = path_y.argmax()\n",
    "\n",
    "t = path_x[e]\n",
    "\n",
    "print(e)\n",
    "print(t)\n",
    "print(best_y[0][0])"
   ],
   "metadata": {
    "collapsed": false,
    "pycharm": {
     "name": "#%%\n"
    }
   },
   "execution_count": 133,
   "outputs": [
    {
     "data": {
      "text/plain": "  0%|          | 0/10000000 [00:00<?, ?it/s]",
      "application/vnd.jupyter.widget-view+json": {
       "version_major": 2,
       "version_minor": 0,
       "model_id": "56d23d4e9b27472d888e52f2ad1ff8fd"
      }
     },
     "metadata": {},
     "output_type": "display_data"
    },
    {
     "name": "stdout",
     "output_type": "stream",
     "text": [
      "12743\n",
      "[6.11150000e+02 1.50000000e-06 3.69009901e-04 3.70509901e-04\n",
      " 6.70000000e-08]\n",
      "0.20918571250988757\n"
     ]
    }
   ]
  },
  {
   "cell_type": "markdown",
   "source": [
    "best_x = [673.15, 0.000001980, 0.000198020, 0.0002, 0.000000015]\n",
    "best_y = E(best_x)\n",
    "x = best_x[:]\n",
    "\n",
    "with trange(600, 900) as tr:\n",
    "    for i in tr:\n",
    "        for j in range(1, 10):\n",
    "            for k in range(90, 100):\n",
    "                for l in range(1, 100):\n",
    "                    x[0] = i\n",
    "                    x[1] = j * 0.000001\n",
    "                    x[2] = k * 0.000001\n",
    "                    x[3] = x[1] + x[2]\n",
    "                    x[4] = l * 0.000000001\n",
    "                    tr.set_postfix(co=j, sio2=k, ethanol=l, best_y=best_y)\n",
    "                    y = E(x)\n",
    "                    if y > best_y:\n",
    "                        best_x = x\n",
    "                        best_y = y\n",
    "                        print(best_y)"
   ],
   "metadata": {
    "collapsed": false,
    "pycharm": {
     "name": "#%% md\n"
    }
   }
  }
 ],
 "metadata": {
  "kernelspec": {
   "name": "pycharm-f893d0ad",
   "language": "python",
   "display_name": "PyCharm (2021国赛)"
  },
  "language_info": {
   "codemirror_mode": {
    "name": "ipython",
    "version": 2
   },
   "file_extension": ".py",
   "mimetype": "text/x-python",
   "name": "python",
   "nbconvert_exporter": "python",
   "pygments_lexer": "ipython2",
   "version": "2.7.6"
  }
 },
 "nbformat": 4,
 "nbformat_minor": 0
}